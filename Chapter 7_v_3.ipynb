{
 "cells": [
  {
   "cell_type": "code",
   "execution_count": 3,
   "id": "worse-hearts",
   "metadata": {},
   "outputs": [],
   "source": [
    "from sklearn.datasets import make_moons\n",
    "from sklearn.ensemble import RandomForestClassifier\n",
    "from sklearn.ensemble import VotingClassifier\n",
    "from sklearn.linear_model import LogisticRegression\n",
    "from sklearn.svm import SVC\n",
    "from sklearn.model_selection import train_test_split\n",
    "from sklearn.metrics import accuracy_score\n",
    "from sklearn.ensemble import BaggingClassifier\n",
    "from sklearn.tree import DecisionTreeClassifier\n",
    "from sklearn.ensemble import  RandomForestClassifier\n",
    "import matplotlib.pyplot as plt\n",
    "import numpy as np"
   ]
  },
  {
   "cell_type": "code",
   "execution_count": 4,
   "id": "average-video",
   "metadata": {},
   "outputs": [],
   "source": [
    "X, y = make_moons(n_samples=500, noise=0.30, random_state=42)\n",
    "X_train, X_test, y_train, y_test = train_test_split(X, y, random_state=42)"
   ]
  },
  {
   "cell_type": "code",
   "execution_count": 5,
   "id": "premier-advocacy",
   "metadata": {},
   "outputs": [],
   "source": [
    "log_clf = LogisticRegression()\n",
    "rnd_clf = RandomForestClassifier()\n",
    "svm_clf = SVC()"
   ]
  },
  {
   "cell_type": "code",
   "execution_count": 6,
   "id": "employed-thickness",
   "metadata": {},
   "outputs": [
    {
     "data": {
      "text/plain": [
       "VotingClassifier(estimators=[('lr', LogisticRegression()),\n",
       "                             ('rf', RandomForestClassifier()), ('svc', SVC())])"
      ]
     },
     "execution_count": 6,
     "metadata": {},
     "output_type": "execute_result"
    }
   ],
   "source": [
    "voting_clf = VotingClassifier(\n",
    "    estimators=[('lr', log_clf), ('rf', rnd_clf), ('svc',svm_clf)],voting= 'hard'\n",
    ")\n",
    "voting_clf.fit(X_train, y_train)"
   ]
  },
  {
   "cell_type": "code",
   "execution_count": 7,
   "id": "effective-entrepreneur",
   "metadata": {},
   "outputs": [
    {
     "name": "stdout",
     "output_type": "stream",
     "text": [
      "LogisticRegression 0.864\n",
      "RandomForestClassifier 0.88\n",
      "SVC 0.896\n",
      "VotingClassifier 0.904\n"
     ]
    }
   ],
   "source": [
    "for clf in (log_clf, rnd_clf, svm_clf,voting_clf):\n",
    "    clf.fit(X_train,y_train)\n",
    "    y_pred = clf.predict(X_test)\n",
    "    print (clf.__class__.__name__,accuracy_score(y_test,y_pred))"
   ]
  },
  {
   "cell_type": "code",
   "execution_count": 8,
   "id": "italian-newsletter",
   "metadata": {},
   "outputs": [],
   "source": [
    "svm_h_clf = SVC(probability=True)"
   ]
  },
  {
   "cell_type": "code",
   "execution_count": 9,
   "id": "alleged-christian",
   "metadata": {},
   "outputs": [
    {
     "data": {
      "text/plain": [
       "VotingClassifier(estimators=[('lr', LogisticRegression()),\n",
       "                             ('rf', RandomForestClassifier()),\n",
       "                             ('svc', SVC(probability=True))],\n",
       "                 voting='soft')"
      ]
     },
     "execution_count": 9,
     "metadata": {},
     "output_type": "execute_result"
    }
   ],
   "source": [
    "voting_clf = VotingClassifier(\n",
    "    estimators=[('lr', log_clf), ('rf', rnd_clf), ('svc',svm_h_clf)],voting= 'soft'\n",
    ")\n",
    "voting_clf.fit(X_train, y_train)\n"
   ]
  },
  {
   "cell_type": "code",
   "execution_count": 10,
   "id": "single-hopkins",
   "metadata": {},
   "outputs": [
    {
     "name": "stdout",
     "output_type": "stream",
     "text": [
      "LogisticRegression 0.864\n",
      "RandomForestClassifier 0.888\n",
      "SVC 0.896\n",
      "VotingClassifier 0.912\n"
     ]
    }
   ],
   "source": [
    "for clf in (log_clf, rnd_clf, svm_clf,voting_clf):\n",
    "    clf.fit(X_train,y_train)\n",
    "    y_pred = clf.predict(X_test)\n",
    "    print (clf.__class__.__name__,accuracy_score(y_test,y_pred))"
   ]
  },
  {
   "cell_type": "code",
   "execution_count": 11,
   "id": "prepared-negative",
   "metadata": {},
   "outputs": [
    {
     "name": "stdout",
     "output_type": "stream",
     "text": [
      "0.904\n"
     ]
    }
   ],
   "source": [
    "bag_clf = BaggingClassifier(\n",
    "     DecisionTreeClassifier(), n_estimators= 500,\n",
    "    max_samples= 100, bootstrap= True, n_jobs=-1\n",
    ")\n",
    "bag_clf.fit(X_train,y_train)\n",
    "y_pred = bag_clf.predict(X_test)\n",
    "print(accuracy_score(y_test,y_pred))"
   ]
  },
  {
   "cell_type": "code",
   "execution_count": 12,
   "id": "viral-silence",
   "metadata": {},
   "outputs": [
    {
     "name": "stdout",
     "output_type": "stream",
     "text": [
      "0.856\n"
     ]
    }
   ],
   "source": [
    "tree_clf = DecisionTreeClassifier()\n",
    "tree_clf.fit(X_train, y_train)\n",
    "y_pred_tree = tree_clf.predict(X_test)\n",
    "print(accuracy_score(y_test, y_pred_tree))"
   ]
  },
  {
   "cell_type": "code",
   "execution_count": 13,
   "id": "particular-douglas",
   "metadata": {},
   "outputs": [],
   "source": [
    "from matplotlib.colors import ListedColormap\n",
    "\n",
    "def plot_decision_boundary(clf, X, y, axes=[-1.5, 2.45, -1, 1.5], alpha=0.5, contour=True):\n",
    "    x1s = np.linspace(axes[0], axes[1], 100)\n",
    "    x2s = np.linspace(axes[2], axes[3], 100)\n",
    "    x1, x2 = np.meshgrid(x1s, x2s)\n",
    "    X_new = np.c_[x1.ravel(), x2.ravel()]\n",
    "    y_pred = clf.predict(X_new).reshape(x1.shape)\n",
    "    custom_cmap = ListedColormap(['#fafab0','#9898ff','#a0faa0'])\n",
    "    plt.contourf(x1, x2, y_pred, alpha=0.3, cmap=custom_cmap)\n",
    "    if contour:\n",
    "        custom_cmap2 = ListedColormap(['#7d7d58','#4c4c7f','#507d50'])\n",
    "        plt.contour(x1, x2, y_pred, cmap=custom_cmap2, alpha=0.8)\n",
    "    plt.plot(X[:, 0][y==0], X[:, 1][y==0], \"yo\", alpha=alpha)\n",
    "    plt.plot(X[:, 0][y==1], X[:, 1][y==1], \"bs\", alpha=alpha)\n",
    "    plt.axis(axes)\n",
    "    plt.xlabel(r\"$x_1$\", fontsize=18)\n",
    "    plt.ylabel(r\"$x_2$\", fontsize=18, rotation=0)"
   ]
  },
  {
   "cell_type": "code",
   "execution_count": 14,
   "id": "removed-fiction",
   "metadata": {},
   "outputs": [
    {
     "data": {
      "image/png": "[encoded data removed]",
      "text/plain": [
       "<Figure size 720x288 with 2 Axes>"
      ]
     },
     "metadata": {
      "needs_background": "light"
     },
     "output_type": "display_data"
    }
   ],
   "source": [
    "fix, axes = plt.subplots(ncols=2, figsize=(10,4), sharey=True)\n",
    "plt.sca(axes[0])\n",
    "plot_decision_boundary(tree_clf, X, y)\n",
    "plt.title(\"Decision Tree\", fontsize=14)\n",
    "plt.sca(axes[1])\n",
    "plot_decision_boundary(bag_clf, X, y)\n",
    "plt.title(\"Decision Trees with Bagging\", fontsize=14)\n",
    "plt.ylabel(\"\")\n",
    "#save_fig(\"decision_tree_without_and_with_bagging_plot\")\n",
    "plt.show()"
   ]
  },
  {
   "cell_type": "code",
   "execution_count": 15,
   "id": "sunset-brass",
   "metadata": {},
   "outputs": [
    {
     "name": "stdout",
     "output_type": "stream",
     "text": [
      "accuracy_score: 0.912\n"
     ]
    }
   ],
   "source": [
    "bag_clf = BaggingClassifier(\n",
    "      DecisionTreeClassifier(), n_estimators=500,\n",
    "      bootstrap=True, n_jobs= -1,oob_score=False\n",
    ")\n",
    "bag_clf.fit(X_train,y_train)\n",
    "#print('oob score:',bag_clf.oob_score_)\n",
    "y_pred = bag_clf.predict(X_test)\n",
    "print('accuracy_score:',accuracy_score(y_test,y_pred))"
   ]
  },
  {
   "cell_type": "code",
   "execution_count": 16,
   "id": "narrative-laser",
   "metadata": {},
   "outputs": [
    {
     "data": {
      "text/plain": [
       "BaggingClassifier(base_estimator=DecisionTreeClassifier(), n_estimators=500,\n",
       "                  n_jobs=-1, oob_score=True)"
      ]
     },
     "execution_count": 16,
     "metadata": {},
     "output_type": "execute_result"
    }
   ],
   "source": [
    "bag_clf_oob = BaggingClassifier(\n",
    "      DecisionTreeClassifier(), n_estimators=500,\n",
    "      bootstrap=True, n_jobs= -1,oob_score=True\n",
    ")\n",
    "bag_clf_oob.fit(X_train,y_train)"
   ]
  },
  {
   "cell_type": "code",
   "execution_count": 21,
   "id": "initial-provision",
   "metadata": {},
   "outputs": [
    {
     "data": {
      "text/plain": [
       "0.904"
      ]
     },
     "execution_count": 21,
     "metadata": {},
     "output_type": "execute_result"
    }
   ],
   "source": [
    "bag_clf_oob.oob_score_"
   ]
  },
  {
   "cell_type": "code",
   "execution_count": 22,
   "id": "wooden-combining",
   "metadata": {},
   "outputs": [
    {
     "data": {
      "text/plain": [
       "0.888"
      ]
     },
     "execution_count": 22,
     "metadata": {},
     "output_type": "execute_result"
    }
   ],
   "source": [
    "y_pred = bag_clf_oob.predict(X_test)\n",
    "accuracy_score(y_test,y_pred)"
   ]
  },
  {
   "cell_type": "code",
   "execution_count": 23,
   "id": "fiscal-automation",
   "metadata": {},
   "outputs": [
    {
     "data": {
      "text/plain": [
       "array([[0.34375   , 0.65625   ],\n",
       "       [0.31137725, 0.68862275],\n",
       "       [1.        , 0.        ],\n",
       "       [0.        , 1.        ],\n",
       "       [0.        , 1.        ],\n",
       "       [0.08648649, 0.91351351],\n",
       "       [0.32474227, 0.67525773],\n",
       "       [0.01190476, 0.98809524],\n",
       "       [0.99404762, 0.00595238],\n",
       "       [0.98947368, 0.01052632],\n",
       "       [0.78125   , 0.21875   ],\n",
       "       [0.00606061, 0.99393939],\n",
       "       [0.78680203, 0.21319797],\n",
       "       [0.90575916, 0.09424084],\n",
       "       [0.96296296, 0.03703704],\n",
       "       [0.04761905, 0.95238095],\n",
       "       [0.        , 1.        ],\n",
       "       [0.97916667, 0.02083333],\n",
       "       [0.93617021, 0.06382979],\n",
       "       [1.        , 0.        ],\n",
       "       [0.01612903, 0.98387097],\n",
       "       [0.40116279, 0.59883721],\n",
       "       [0.93258427, 0.06741573],\n",
       "       [1.        , 0.        ],\n",
       "       [0.95336788, 0.04663212],\n",
       "       [0.        , 1.        ],\n",
       "       [1.        , 0.        ],\n",
       "       [1.        , 0.        ],\n",
       "       [0.        , 1.        ],\n",
       "       [0.65816327, 0.34183673],\n",
       "       [0.        , 1.        ],\n",
       "       [1.        , 0.        ],\n",
       "       [0.        , 1.        ],\n",
       "       [0.        , 1.        ],\n",
       "       [0.13      , 0.87      ],\n",
       "       [1.        , 0.        ],\n",
       "       [0.        , 1.        ],\n",
       "       [0.39361702, 0.60638298],\n",
       "       [0.        , 1.        ],\n",
       "       [1.        , 0.        ],\n",
       "       [0.24      , 0.76      ],\n",
       "       [0.33333333, 0.66666667],\n",
       "       [1.        , 0.        ],\n",
       "       [1.        , 0.        ],\n",
       "       [0.00520833, 0.99479167],\n",
       "       [1.        , 0.        ],\n",
       "       [1.        , 0.        ],\n",
       "       [0.00568182, 0.99431818],\n",
       "       [1.        , 0.        ],\n",
       "       [0.00490196, 0.99509804],\n",
       "       [0.98947368, 0.01052632],\n",
       "       [0.91919192, 0.08080808],\n",
       "       [0.96195652, 0.03804348],\n",
       "       [0.96938776, 0.03061224],\n",
       "       [0.        , 1.        ],\n",
       "       [0.04166667, 0.95833333],\n",
       "       [0.98324022, 0.01675978],\n",
       "       [0.        , 1.        ],\n",
       "       [0.        , 1.        ],\n",
       "       [0.        , 1.        ],\n",
       "       [0.98918919, 0.01081081],\n",
       "       [0.79569892, 0.20430108],\n",
       "       [0.44134078, 0.55865922],\n",
       "       [1.        , 0.        ],\n",
       "       [0.        , 1.        ],\n",
       "       [0.69662921, 0.30337079],\n",
       "       [1.        , 0.        ],\n",
       "       [1.        , 0.        ],\n",
       "       [0.8490566 , 0.1509434 ],\n",
       "       [1.        , 0.        ],\n",
       "       [0.63428571, 0.36571429],\n",
       "       [0.12903226, 0.87096774],\n",
       "       [0.59340659, 0.40659341],\n",
       "       [0.90957447, 0.09042553],\n",
       "       [0.        , 1.        ],\n",
       "       [0.19444444, 0.80555556],\n",
       "       [0.93085106, 0.06914894],\n",
       "       [1.        , 0.        ],\n",
       "       [0.        , 1.        ],\n",
       "       [0.99363057, 0.00636943],\n",
       "       [0.        , 1.        ],\n",
       "       [0.05789474, 0.94210526],\n",
       "       [0.04819277, 0.95180723],\n",
       "       [0.35135135, 0.64864865],\n",
       "       [1.        , 0.        ],\n",
       "       [0.        , 1.        ],\n",
       "       [0.87272727, 0.12727273],\n",
       "       [0.00540541, 0.99459459],\n",
       "       [0.        , 1.        ],\n",
       "       [0.        , 1.        ],\n",
       "       [0.23976608, 0.76023392],\n",
       "       [1.        , 0.        ],\n",
       "       [0.        , 1.        ],\n",
       "       [0.        , 1.        ],\n",
       "       [0.        , 1.        ],\n",
       "       [0.94827586, 0.05172414],\n",
       "       [0.80104712, 0.19895288],\n",
       "       [0.00543478, 0.99456522],\n",
       "       [1.        , 0.        ],\n",
       "       [0.19230769, 0.80769231],\n",
       "       [0.65340909, 0.34659091],\n",
       "       [0.        , 1.        ],\n",
       "       [0.02197802, 0.97802198],\n",
       "       [0.47058824, 0.52941176],\n",
       "       [1.        , 0.        ],\n",
       "       [0.01796407, 0.98203593],\n",
       "       [1.        , 0.        ],\n",
       "       [0.23333333, 0.76666667],\n",
       "       [0.46153846, 0.53846154],\n",
       "       [1.        , 0.        ],\n",
       "       [0.01764706, 0.98235294],\n",
       "       [0.98958333, 0.01041667],\n",
       "       [0.23350254, 0.76649746],\n",
       "       [0.88235294, 0.11764706],\n",
       "       [1.        , 0.        ],\n",
       "       [1.        , 0.        ],\n",
       "       [0.        , 1.        ],\n",
       "       [0.        , 1.        ],\n",
       "       [0.7962963 , 0.2037037 ],\n",
       "       [1.        , 0.        ],\n",
       "       [0.        , 1.        ],\n",
       "       [1.        , 0.        ],\n",
       "       [0.99481865, 0.00518135],\n",
       "       [1.        , 0.        ],\n",
       "       [0.97222222, 0.02777778],\n",
       "       [1.        , 0.        ],\n",
       "       [0.        , 1.        ],\n",
       "       [0.96256684, 0.03743316],\n",
       "       [1.        , 0.        ],\n",
       "       [0.02424242, 0.97575758],\n",
       "       [0.21052632, 0.78947368],\n",
       "       [0.97191011, 0.02808989],\n",
       "       [0.27325581, 0.72674419],\n",
       "       [1.        , 0.        ],\n",
       "       [0.        , 1.        ],\n",
       "       [0.        , 1.        ],\n",
       "       [0.70224719, 0.29775281],\n",
       "       [0.375     , 0.625     ],\n",
       "       [0.46031746, 0.53968254],\n",
       "       [0.90865385, 0.09134615],\n",
       "       [0.95979899, 0.04020101],\n",
       "       [0.05102041, 0.94897959],\n",
       "       [0.77653631, 0.22346369],\n",
       "       [0.        , 1.        ],\n",
       "       [0.        , 1.        ],\n",
       "       [0.01538462, 0.98461538],\n",
       "       [0.98974359, 0.01025641],\n",
       "       [1.        , 0.        ],\n",
       "       [1.        , 0.        ],\n",
       "       [0.00558659, 0.99441341],\n",
       "       [0.        , 1.        ],\n",
       "       [0.02139037, 0.97860963],\n",
       "       [0.        , 1.        ],\n",
       "       [1.        , 0.        ],\n",
       "       [1.        , 0.        ],\n",
       "       [0.95918367, 0.04081633],\n",
       "       [1.        , 0.        ],\n",
       "       [1.        , 0.        ],\n",
       "       [1.        , 0.        ],\n",
       "       [0.        , 1.        ],\n",
       "       [0.31491713, 0.68508287],\n",
       "       [0.34302326, 0.65697674],\n",
       "       [0.        , 1.        ],\n",
       "       [0.        , 1.        ],\n",
       "       [0.30635838, 0.69364162],\n",
       "       [1.        , 0.        ],\n",
       "       [1.        , 0.        ],\n",
       "       [0.        , 1.        ],\n",
       "       [1.        , 0.        ],\n",
       "       [0.00588235, 0.99411765],\n",
       "       [0.        , 1.        ],\n",
       "       [0.98412698, 0.01587302],\n",
       "       [0.        , 1.        ],\n",
       "       [0.        , 1.        ],\n",
       "       [1.        , 0.        ],\n",
       "       [0.        , 1.        ],\n",
       "       [0.69430052, 0.30569948],\n",
       "       [0.90049751, 0.09950249],\n",
       "       [0.        , 1.        ],\n",
       "       [0.99459459, 0.00540541],\n",
       "       [0.99489796, 0.00510204],\n",
       "       [1.        , 0.        ],\n",
       "       [0.        , 1.        ],\n",
       "       [0.        , 1.        ],\n",
       "       [1.        , 0.        ],\n",
       "       [0.10497238, 0.89502762],\n",
       "       [1.        , 0.        ],\n",
       "       [0.0625    , 0.9375    ],\n",
       "       [0.        , 1.        ],\n",
       "       [1.        , 0.        ],\n",
       "       [0.        , 1.        ],\n",
       "       [0.02197802, 0.97802198],\n",
       "       [1.        , 0.        ],\n",
       "       [0.93142857, 0.06857143],\n",
       "       [0.77900552, 0.22099448],\n",
       "       [0.62857143, 0.37142857],\n",
       "       [0.        , 1.        ],\n",
       "       [0.11235955, 0.88764045],\n",
       "       [1.        , 0.        ],\n",
       "       [0.96022727, 0.03977273],\n",
       "       [0.96590909, 0.03409091],\n",
       "       [1.        , 0.        ],\n",
       "       [0.        , 1.        ],\n",
       "       [0.        , 1.        ],\n",
       "       [0.38918919, 0.61081081],\n",
       "       [0.84816754, 0.15183246],\n",
       "       [0.        , 1.        ],\n",
       "       [0.        , 1.        ],\n",
       "       [1.        , 0.        ],\n",
       "       [0.00540541, 0.99459459],\n",
       "       [0.        , 1.        ],\n",
       "       [0.94444444, 0.05555556],\n",
       "       [0.        , 1.        ],\n",
       "       [0.21693122, 0.78306878],\n",
       "       [0.        , 1.        ],\n",
       "       [1.        , 0.        ],\n",
       "       [0.        , 1.        ],\n",
       "       [0.        , 1.        ],\n",
       "       [0.97714286, 0.02285714],\n",
       "       [0.81443299, 0.18556701],\n",
       "       [1.        , 0.        ],\n",
       "       [0.        , 1.        ],\n",
       "       [0.07978723, 0.92021277],\n",
       "       [0.99497487, 0.00502513],\n",
       "       [0.046875  , 0.953125  ],\n",
       "       [0.        , 1.        ],\n",
       "       [0.05263158, 0.94736842],\n",
       "       [0.99444444, 0.00555556],\n",
       "       [0.84117647, 0.15882353],\n",
       "       [0.        , 1.        ],\n",
       "       [0.875     , 0.125     ],\n",
       "       [0.99494949, 0.00505051],\n",
       "       [0.175     , 0.825     ],\n",
       "       [0.23809524, 0.76190476],\n",
       "       [1.        , 0.        ],\n",
       "       [0.        , 1.        ],\n",
       "       [0.        , 1.        ],\n",
       "       [0.        , 1.        ],\n",
       "       [0.24456522, 0.75543478],\n",
       "       [0.97126437, 0.02873563],\n",
       "       [0.01136364, 0.98863636],\n",
       "       [1.        , 0.        ],\n",
       "       [0.98333333, 0.01666667],\n",
       "       [0.        , 1.        ],\n",
       "       [0.4507772 , 0.5492228 ],\n",
       "       [1.        , 0.        ],\n",
       "       [0.        , 1.        ],\n",
       "       [1.        , 0.        ],\n",
       "       [0.        , 1.        ],\n",
       "       [0.        , 1.        ],\n",
       "       [0.10909091, 0.89090909],\n",
       "       [0.10160428, 0.89839572],\n",
       "       [0.98895028, 0.01104972],\n",
       "       [0.01970443, 0.98029557],\n",
       "       [1.        , 0.        ],\n",
       "       [0.41436464, 0.58563536],\n",
       "       [0.15083799, 0.84916201],\n",
       "       [0.54404145, 0.45595855],\n",
       "       [0.58695652, 0.41304348],\n",
       "       [0.00526316, 0.99473684],\n",
       "       [1.        , 0.        ],\n",
       "       [0.        , 1.        ],\n",
       "       [0.        , 1.        ],\n",
       "       [0.67251462, 0.32748538],\n",
       "       [0.        , 1.        ],\n",
       "       [1.        , 0.        ],\n",
       "       [0.22727273, 0.77272727],\n",
       "       [0.8121547 , 0.1878453 ],\n",
       "       [0.08205128, 0.91794872],\n",
       "       [1.        , 0.        ],\n",
       "       [0.82352941, 0.17647059],\n",
       "       [0.        , 1.        ],\n",
       "       [0.        , 1.        ],\n",
       "       [0.08743169, 0.91256831],\n",
       "       [0.02173913, 0.97826087],\n",
       "       [0.        , 1.        ],\n",
       "       [1.        , 0.        ],\n",
       "       [0.92073171, 0.07926829],\n",
       "       [0.15606936, 0.84393064],\n",
       "       [0.96078431, 0.03921569],\n",
       "       [0.        , 1.        ],\n",
       "       [0.6122449 , 0.3877551 ],\n",
       "       [0.04469274, 0.95530726],\n",
       "       [0.98461538, 0.01538462],\n",
       "       [0.8253012 , 0.1746988 ],\n",
       "       [0.        , 1.        ],\n",
       "       [1.        , 0.        ],\n",
       "       [0.91666667, 0.08333333],\n",
       "       [0.        , 1.        ],\n",
       "       [0.        , 1.        ],\n",
       "       [1.        , 0.        ],\n",
       "       [0.        , 1.        ],\n",
       "       [1.        , 0.        ],\n",
       "       [0.32022472, 0.67977528],\n",
       "       [0.98830409, 0.01169591],\n",
       "       [1.        , 0.        ],\n",
       "       [0.        , 1.        ],\n",
       "       [0.00613497, 0.99386503],\n",
       "       [0.85185185, 0.14814815],\n",
       "       [0.        , 1.        ],\n",
       "       [1.        , 0.        ],\n",
       "       [0.6969697 , 0.3030303 ],\n",
       "       [0.95092025, 0.04907975],\n",
       "       [1.        , 0.        ],\n",
       "       [0.69680851, 0.30319149],\n",
       "       [0.48333333, 0.51666667],\n",
       "       [0.        , 1.        ],\n",
       "       [0.92708333, 0.07291667],\n",
       "       [0.        , 1.        ],\n",
       "       [1.        , 0.        ],\n",
       "       [0.85572139, 0.14427861],\n",
       "       [1.        , 0.        ],\n",
       "       [1.        , 0.        ],\n",
       "       [0.73979592, 0.26020408],\n",
       "       [0.13756614, 0.86243386],\n",
       "       [0.3880597 , 0.6119403 ],\n",
       "       [0.21428571, 0.78571429],\n",
       "       [0.        , 1.        ],\n",
       "       [0.9030303 , 0.0969697 ],\n",
       "       [0.8125    , 0.1875    ],\n",
       "       [0.        , 1.        ],\n",
       "       [1.        , 0.        ],\n",
       "       [0.99534884, 0.00465116],\n",
       "       [1.        , 0.        ],\n",
       "       [0.        , 1.        ],\n",
       "       [0.01570681, 0.98429319],\n",
       "       [0.92972973, 0.07027027],\n",
       "       [0.97687861, 0.02312139],\n",
       "       [1.        , 0.        ],\n",
       "       [0.44329897, 0.55670103],\n",
       "       [1.        , 0.        ],\n",
       "       [0.00581395, 0.99418605],\n",
       "       [0.9742268 , 0.0257732 ],\n",
       "       [0.01036269, 0.98963731],\n",
       "       [1.        , 0.        ],\n",
       "       [1.        , 0.        ],\n",
       "       [1.        , 0.        ],\n",
       "       [0.        , 1.        ],\n",
       "       [0.96335079, 0.03664921],\n",
       "       [0.        , 1.        ],\n",
       "       [0.03076923, 0.96923077],\n",
       "       [0.        , 1.        ],\n",
       "       [0.        , 1.        ],\n",
       "       [1.        , 0.        ],\n",
       "       [1.        , 0.        ],\n",
       "       [0.        , 1.        ],\n",
       "       [0.99450549, 0.00549451],\n",
       "       [0.00540541, 0.99459459],\n",
       "       [1.        , 0.        ],\n",
       "       [0.1043956 , 0.8956044 ],\n",
       "       [0.        , 1.        ],\n",
       "       [0.        , 1.        ],\n",
       "       [0.        , 1.        ],\n",
       "       [0.38509317, 0.61490683],\n",
       "       [0.08900524, 0.91099476],\n",
       "       [0.25510204, 0.74489796],\n",
       "       [1.        , 0.        ],\n",
       "       [0.97714286, 0.02285714],\n",
       "       [0.21717172, 0.78282828],\n",
       "       [1.        , 0.        ],\n",
       "       [0.        , 1.        ],\n",
       "       [0.        , 1.        ],\n",
       "       [1.        , 0.        ],\n",
       "       [0.95698925, 0.04301075],\n",
       "       [0.3373494 , 0.6626506 ],\n",
       "       [0.98941799, 0.01058201],\n",
       "       [1.        , 0.        ],\n",
       "       [0.        , 1.        ],\n",
       "       [0.99473684, 0.00526316],\n",
       "       [0.        , 1.        ],\n",
       "       [0.04519774, 0.95480226],\n",
       "       [0.98342541, 0.01657459],\n",
       "       [1.        , 0.        ],\n",
       "       [0.02659574, 0.97340426],\n",
       "       [0.65168539, 0.34831461]])"
      ]
     },
     "execution_count": 23,
     "metadata": {},
     "output_type": "execute_result"
    }
   ],
   "source": [
    "bag_clf_oob.oob_decision_function_"
   ]
  },
  {
   "cell_type": "code",
   "execution_count": 25,
   "id": "rational-capital",
   "metadata": {},
   "outputs": [
    {
     "data": {
      "text/plain": [
       "RandomForestClassifier(max_leaf_nodes=16, n_estimators=500, n_jobs=-1)"
      ]
     },
     "execution_count": 25,
     "metadata": {},
     "output_type": "execute_result"
    }
   ],
   "source": [
    "rnd_clf = RandomForestClassifier(n_estimators=500,max_leaf_nodes=16, n_jobs=-1)\n",
    "rnd_clf.fit(X_train,y_train)"
   ]
  },
  {
   "cell_type": "code",
   "execution_count": 27,
   "id": "important-wisconsin",
   "metadata": {},
   "outputs": [
    {
     "data": {
      "text/plain": [
       "0.92"
      ]
     },
     "execution_count": 27,
     "metadata": {},
     "output_type": "execute_result"
    }
   ],
   "source": [
    "y_pred_rf = rnd_clf.predict(X_test)\n",
    "accuracy_score(y_test,y_pred_rf)"
   ]
  },
  {
   "cell_type": "code",
   "execution_count": 33,
   "id": "annoying-sleeping",
   "metadata": {},
   "outputs": [
    {
     "data": {
      "text/plain": [
       "0.912"
      ]
     },
     "execution_count": 33,
     "metadata": {},
     "output_type": "execute_result"
    }
   ],
   "source": [
    "bag_clf = BaggingClassifier(\n",
    "      DecisionTreeClassifier(splitter= 'random', max_leaf_nodes=16),\n",
    "      n_estimators= 500, max_samples=1.0, bootstrap= True, n_jobs= -1\n",
    ")\n",
    "bag_clf.fit(X_train,y_train)\n",
    "y_pred = bag_clf.predict(X_test)\n",
    "accuracy_score(y_test,y_pred)"
   ]
  },
  {
   "cell_type": "code",
   "execution_count": null,
   "id": "advanced-train",
   "metadata": {},
   "outputs": [],
   "source": []
  }
 ],
 "metadata": {
  "kernelspec": {
   "display_name": "Python 3",
   "language": "python",
   "name": "python3"
  },
  "language_info": {
   "codemirror_mode": {
    "name": "ipython",
    "version": 3
   },
   "file_extension": ".py",
   "mimetype": "text/x-python",
   "name": "python",
   "nbconvert_exporter": "python",
   "pygments_lexer": "ipython3",
   "version": "3.8.5"
  }
 },
 "nbformat": 4,
 "nbformat_minor": 5
}
